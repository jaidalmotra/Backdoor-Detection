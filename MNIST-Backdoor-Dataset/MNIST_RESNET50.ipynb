{
  "nbformat": 4,
  "nbformat_minor": 0,
  "metadata": {
    "colab": {
      "provenance": []
    },
    "kernelspec": {
      "name": "python3",
      "display_name": "Python 3"
    },
    "language_info": {
      "name": "python"
    }
  },
  "cells": [
    {
      "cell_type": "markdown",
      "source": [
        "#Importing Libraries"
      ],
      "metadata": {
        "id": "RIkHohc_dFX6"
      }
    },
    {
      "cell_type": "code",
      "execution_count": null,
      "metadata": {
        "id": "ZTJvq_51cpE7"
      },
      "outputs": [],
      "source": [
        "import pandas as pd\n",
        "import numpy as np\n",
        "import warnings\n",
        "warnings.filterwarnings('ignore')\n",
        "import matplotlib.pyplot as plt\n",
        "from sklearn.model_selection import train_test_split\n",
        "from PIL import Image\n",
        "import tensorflow as tf\n",
        "from tensorflow import keras\n",
        "from tensorflow.keras.applications import ResNet50\n",
        "from tensorflow.keras.layers import Dense, Dropout, Flatten, Input\n",
        "from tensorflow.keras.models import Model\n",
        "from tensorflow.keras.optimizers import Adam\n",
        "from tensorflow.keras.preprocessing.image import ImageDataGenerator\n",
        "import keras\n",
        "from keras.models import Sequential\n",
        "from keras.layers import Conv2D,MaxPooling2D,Dense,Flatten,Dropout\n",
        "from keras.callbacks import TensorBoard\n",
        "num_classes = 10\n",
        "epochs = 300"
      ]
    },
    {
      "cell_type": "markdown",
      "source": [
        "#2 Getting the Dataset ready\n",
        "\n",
        "2.1 Read the Dataset"
      ],
      "metadata": {
        "id": "2vv9EHGMdRrQ"
      }
    },
    {
      "cell_type": "code",
      "source": [
        "import os\n",
        "\n",
        "# List the contents of the directory\n",
        "directory = '/kaggle/input/mnist-backdoor-dataset/mnist_backdoor_dataset/train'\n",
        "print(os.listdir(directory))"
      ],
      "metadata": {
        "id": "zM-FGNRedzKn"
      },
      "execution_count": null,
      "outputs": []
    },
    {
      "cell_type": "code",
      "source": [
        "from PIL import Image\n",
        "import os\n",
        "\n",
        "# Define the directory path\n",
        "directory_path = '/kaggle/input/mnist-backdoor-dataset/mnist_backdoor_dataset/train'\n",
        "\n",
        "# List all files in the directory\n",
        "file_names = os.listdir(directory_path)\n",
        "\n",
        "# Load images from the directory\n",
        "images = []\n",
        "for file_name in file_names:\n",
        "    if file_name.endswith('.png') or file_name.endswith('.jpg') or file_name.endswith('.jpeg'):\n",
        "        image_path = os.path.join(directory_path, file_name)\n",
        "        image = Image.open(image_path)\n",
        "        images.append(image)\n",
        "\n",
        "# Process the images as required\n",
        "# ...\n",
        "\n",
        "# Example: Showing the first image\n",
        "if images:\n",
        "    images[0].show()\n",
        "else:\n",
        "    print(\"No images found in the directory.\")"
      ],
      "metadata": {
        "id": "3_eGMGGZd3fU"
      },
      "execution_count": null,
      "outputs": []
    },
    {
      "cell_type": "markdown",
      "source": [
        "# Define the training parameters"
      ],
      "metadata": {
        "id": "KL5R8hKbfhqX"
      }
    },
    {
      "cell_type": "code",
      "source": [
        "batch_size = 128\n",
        "num_epochs = 1000"
      ],
      "metadata": {
        "id": "aUUd8bU0fofr"
      },
      "execution_count": null,
      "outputs": []
    },
    {
      "cell_type": "markdown",
      "source": [
        "# Load the Resnet50 model"
      ],
      "metadata": {
        "id": "GCX7PCU6ftQJ"
      }
    },
    {
      "cell_type": "code",
      "source": [
        "image_input = Input(shape=(64, 64, 3))\n",
        "resnet50 = ResNet50(include_top=False, weights='imagenet')"
      ],
      "metadata": {
        "id": "CpevUK0XfvXX"
      },
      "execution_count": null,
      "outputs": []
    },
    {
      "cell_type": "markdown",
      "source": [
        "# Add a new classification layer"
      ],
      "metadata": {
        "id": "ihDfQsFEf8tu"
      }
    },
    {
      "cell_type": "code",
      "source": [
        "x = resnet50(image_input)\n",
        "x = Flatten()(x)\n",
        "x = Dense(128, activation='relu')(x)\n",
        "x = Dropout(0.5)(x)\n",
        "class_outputs = Dense(9, activation='softmax')(x)\n"
      ],
      "metadata": {
        "id": "kt50fBb8f9yb"
      },
      "execution_count": null,
      "outputs": []
    },
    {
      "cell_type": "markdown",
      "source": [
        "#Creating,training and testing the model"
      ],
      "metadata": {
        "id": "ctXkLY43gLDN"
      }
    },
    {
      "cell_type": "code",
      "source": [
        "# Create the model\n",
        "model = Model(image_input, class_outputs)\n",
        "\n",
        "# Compile the model\n",
        "model.compile(loss='categorical_crossentropy', optimizer=Adam(lr=0.001), metrics=['accuracy'])\n",
        "\n",
        "# Load the training data\n",
        "train_datagen = ImageDataGenerator(\n",
        "    rescale=1./255,\n",
        "    rotation_range=20,\n",
        "    width_shift_range=0.2,\n",
        "    height_shift_range=0.2,\n",
        "    horizontal_flip=True,\n",
        ")\n",
        "\n",
        "train_dataset = train_datagen.flow_from_directory(\n",
        "    '/kaggle/input/mnist-backdoor-dataset/mnist_backdoor_dataset/train',\n",
        "    target_size=(64, 64),\n",
        "    batch_size=batch_size,\n",
        "    class_mode='categorical'\n",
        ")\n",
        "\n",
        "# Load the validation data\n",
        "val_datagen = ImageDataGenerator(rescale=1./255)\n",
        "\n",
        "val_dataset = val_datagen.flow_from_directory(\n",
        "    '/kaggle/input/mnist-backdoor-dataset/mnist_backdoor_dataset/val',\n",
        "    target_size=(64, 64),\n",
        "    batch_size=batch_size,\n",
        "    class_mode='categorical'\n",
        ")\n",
        "\n",
        "# Train the model\n",
        "model.fit(train_dataset, epochs=num_epochs, validation_data=val_dataset)\n",
        "\n",
        "# Evaluate the model on the test data\n",
        "test_datagen = ImageDataGenerator(rescale=1./255)\n",
        "\n",
        "test_dataset = test_datagen.flow_from_directory(\n",
        "    '/kaggle/input/mnist-backdoor-dataset/mnist_backdoor_dataset/test',\n",
        "    target_size=(64, 64),\n",
        "    batch_size=batch_size,\n",
        "    class_mode='categorical'\n",
        ")\n",
        "\n",
        "# Perform prediction and evaluate the model\n",
        "from keras.utils.np_utils import to_categorical\n",
        "import numpy as np\n",
        "from sklearn.metrics import classification_report\n",
        "import time\n",
        "\n",
        "test_labels = test_dataset.classes\n",
        "test_labels = to_categorical(test_labels, num_classes=9)\n",
        "\n",
        "start_time = time.time()\n",
        "y_pred = model.predict(test_dataset)\n",
        "y_pred_bool = np.argmax(y_pred, axis=1)\n",
        "rounded_labels=np.argmax(test_labels, axis=1)\n",
        "from sklearn.metrics import classification_report\n",
        "print(classification_report(y_pred_bool, rounded_labels, digits=4))\n",
        "print(\"Time taken to predict the model: \" + str(time.time() - start_time))\n"
      ],
      "metadata": {
        "id": "S00KZS3Bek_s"
      },
      "execution_count": null,
      "outputs": []
    },
    {
      "cell_type": "markdown",
      "source": [
        "#Final testing accuracy"
      ],
      "metadata": {
        "id": "jRY4ohtKtIA5"
      }
    },
    {
      "cell_type": "code",
      "source": [
        "# Perform prediction and evaluate the model\n",
        "from keras.utils.np_utils import to_categorical\n",
        "import numpy as np\n",
        "from sklearn.metrics import classification_report\n",
        "import time\n",
        "\n",
        "test_labels = test_dataset.classes\n",
        "test_labels = to_categorical(test_labels, num_classes=9)\n",
        "\n",
        "start_time = time.time()\n",
        "y_pred = model.predict(test_dataset)\n",
        "y_pred_bool = np.argmax(y_pred, axis=1)\n",
        "rounded_labels = np.argmax(test_labels, axis=1)\n",
        "print(classification_report(y_pred_bool, rounded_labels, digits=4))\n",
        "print(\"Time taken to predict the model: \" + str(time.time() - start_time))\n"
      ],
      "metadata": {
        "id": "hgr6yztNtM5S"
      },
      "execution_count": null,
      "outputs": []
    }
  ]
}